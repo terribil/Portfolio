{
 "cells": [
  {
   "attachments": {},
   "cell_type": "markdown",
   "metadata": {},
   "source": [
    "# Predicting West Nile Virus in Chicago"
   ]
  },
  {
   "cell_type": "markdown",
   "metadata": {},
   "source": [
    "#### Aakash Tandel, Chaim Gluck, Matt Terribile, Nellie Carr,  August 11, 2017\n"
   ]
  },
  {
   "attachments": {},
   "cell_type": "markdown",
   "metadata": {},
   "source": [
    "### Goal:  \n",
    "This project is to predict which locations in Chicago should be sprayed for mosquitos to prevent West Nile Virus based on data collected from 2007 through 2013 at 148 mosquito traps placed throughout the city of Chicago (https://www.kaggle.com/c/predict-west-nile-virus)."
   ]
  },
  {
   "attachments": {},
   "cell_type": "markdown",
   "metadata": {},
   "source": [
    "### Methodology and Summary:\n",
    "-\tConcurrently with doing exploratory data analysis (EDA) on the data, we reviewed research from scholarly and industry sources concerning factors believed to aid in the spread of WNV and more generally contribute to greater volumes of mosquitos. \n",
    "-\tBased on the research we focused our feature engineering on patterns of moisture and heat over time.   For moisture, we looked at total precipitation and average wet bulb over time, theorizing that precipitation represents an increase in moisture, while wet bulb is an indicator of evaporation rate, thus decreases in moisture.   For heat, we worked with cumulative cooling degree days over time.   For each of these metrics, we created new variables for the last 7 days, the last 30 days, and the last 90 days.  For the 30 and 90 day variables, we subtracted the 7 and 30 day variables respectively for greater feature independence.  \n",
    "-\tWe created visualizations of these vs. WNV presence over time (example below.)   Although some of the dips in the visualizations are due to the timing of the data samples, there appears to be correlation between the variables created and WNV presence.\n",
    "-\tWhile the precipitation, wet bulb, and cooling degree day features were being created, we trained and tested models using multiple algorithms to get a baseline of model performance.   Then, when we added these features, we were able to see improvements to performance.\n",
    "- We then examined feature importances to do variable selection.   We achieved our best models using some of the engineered variables (30 and 90 day precipitation and cooling degree days), while removing others (wet bulb and 7 day precipitation and cooling.)"
   ]
  },
  {
   "cell_type": "code",
   "execution_count": 1,
   "metadata": {},
   "outputs": [
    {
     "name": "stderr",
     "output_type": "stream",
     "text": [
      "/Users/matthewterribile/anaconda/lib/python2.7/site-packages/statsmodels/compat/pandas.py:56: FutureWarning: The pandas.core.datetools module is deprecated and will be removed in a future version. Please use the pandas.tseries module instead.\n",
      "  from pandas.core import datetools\n"
     ]
    }
   ],
   "source": [
    "# Import libraries and read in data sets\n",
    "import pandas as pd\n",
    "import numpy as np\n",
    "import csv\n",
    "import matplotlib.pyplot as plt\n",
    "import matplotlib.cm as cm\n",
    "%matplotlib inline\n",
    "\n",
    "import seaborn as sns\n",
    "from sklearn import datasets\n",
    "from sklearn import linear_model\n",
    "from sklearn import metrics\n",
    "from sklearn.metrics import silhouette_samples, silhouette_score\n",
    "\n",
    "import statsmodels.api as sm\n",
    "import statsmodels.formula.api as smf\n",
    "\n",
    "import scipy.stats as stats\n",
    "\n",
    "df_train = pd.read_csv('data_wnv/train.csv')\n",
    "df_spray = pd.read_csv('data_wnv/spray.csv')\n",
    "df_weather = pd.read_csv('data_wnv/weather.csv')\n",
    "df_test = pd.read_csv('data_wnv/test.csv')"
   ]
  },
  {
   "cell_type": "markdown",
   "metadata": {},
   "source": [
    "#### Exploratory Data Analysis"
   ]
  },
  {
   "cell_type": "code",
   "execution_count": 2,
   "metadata": {},
   "outputs": [
    {
     "name": "stdout",
     "output_type": "stream",
     "text": [
      "missing values \n",
      "Date                      0\n",
      "Address                   0\n",
      "Species                   0\n",
      "Block                     0\n",
      "Street                    0\n",
      "Trap                      0\n",
      "AddressNumberAndStreet    0\n",
      "Latitude                  0\n",
      "Longitude                 0\n",
      "AddressAccuracy           0\n",
      "NumMosquitos              0\n",
      "WnvPresent                0\n",
      "dtype: int64\n",
      "dataframe index \n",
      "RangeIndex(start=0, stop=10506, step=1)\n",
      "dataframe types \n",
      "Date                       object\n",
      "Address                    object\n",
      "Species                    object\n",
      "Block                       int64\n",
      "Street                     object\n",
      "Trap                       object\n",
      "AddressNumberAndStreet     object\n",
      "Latitude                  float64\n",
      "Longitude                 float64\n",
      "AddressAccuracy             int64\n",
      "NumMosquitos                int64\n",
      "WnvPresent                  int64\n",
      "dtype: object\n",
      "dataframe shape \n",
      "(10506, 12)\n",
      "dataframe describe \n",
      "              Block      Latitude     Longitude  AddressAccuracy  \\\n",
      "count  10506.000000  10506.000000  10506.000000     10506.000000   \n",
      "mean      35.687797     41.841139    -87.699908         7.819532   \n",
      "std       24.339468      0.112742      0.096514         1.452921   \n",
      "min       10.000000     41.644612    -87.930995         3.000000   \n",
      "25%       12.000000     41.732984    -87.760070         8.000000   \n",
      "50%       33.000000     41.846283    -87.694991         8.000000   \n",
      "75%       52.000000     41.954690    -87.627796         9.000000   \n",
      "max       98.000000     42.017430    -87.531635         9.000000   \n",
      "\n",
      "       NumMosquitos    WnvPresent  \n",
      "count  10506.000000  10506.000000  \n",
      "mean      12.853512      0.052446  \n",
      "std       16.133816      0.222936  \n",
      "min        1.000000      0.000000  \n",
      "25%        2.000000      0.000000  \n",
      "50%        5.000000      0.000000  \n",
      "75%       17.000000      0.000000  \n",
      "max       50.000000      1.000000  \n",
      "Date\n",
      "95\n",
      "Address\n",
      "138\n",
      "Species\n",
      "7\n",
      "Block\n",
      "64\n",
      "Street\n",
      "128\n",
      "Trap\n",
      "136\n",
      "AddressNumberAndStreet\n",
      "138\n",
      "Latitude\n",
      "138\n",
      "Longitude\n",
      "138\n",
      "AddressAccuracy\n",
      "4\n",
      "NumMosquitos\n",
      "50\n",
      "WnvPresent\n",
      "2\n"
     ]
    }
   ],
   "source": [
    "# Function to do basic EDA\n",
    "def eda(dataframe):\n",
    "    print \"missing values \\n\", dataframe.isnull().sum()\n",
    "    print \"dataframe index \\n\", dataframe.index\n",
    "    print \"dataframe types \\n\", dataframe.dtypes\n",
    "    print \"dataframe shape \\n\", dataframe.shape\n",
    "    print \"dataframe describe \\n\", dataframe.describe()\n",
    "    for item in dataframe:\n",
    "        print item\n",
    "        print dataframe[item].nunique()\n",
    "\n",
    "eda(df_train)"
   ]
  },
  {
   "cell_type": "code",
   "execution_count": 3,
   "metadata": {},
   "outputs": [
    {
     "data": {
      "text/html": [
       "<div>\n",
       "<style>\n",
       "    .dataframe thead tr:only-child th {\n",
       "        text-align: right;\n",
       "    }\n",
       "\n",
       "    .dataframe thead th {\n",
       "        text-align: left;\n",
       "    }\n",
       "\n",
       "    .dataframe tbody tr th {\n",
       "        vertical-align: top;\n",
       "    }\n",
       "</style>\n",
       "<table border=\"1\" class=\"dataframe\">\n",
       "  <thead>\n",
       "    <tr style=\"text-align: right;\">\n",
       "      <th></th>\n",
       "      <th>Latitude</th>\n",
       "      <th>Longitude</th>\n",
       "    </tr>\n",
       "  </thead>\n",
       "  <tbody>\n",
       "    <tr>\n",
       "      <th>count</th>\n",
       "      <td>14835.000000</td>\n",
       "      <td>14835.000000</td>\n",
       "    </tr>\n",
       "    <tr>\n",
       "      <th>mean</th>\n",
       "      <td>41.904828</td>\n",
       "      <td>-87.736690</td>\n",
       "    </tr>\n",
       "    <tr>\n",
       "      <th>std</th>\n",
       "      <td>0.104381</td>\n",
       "      <td>0.067292</td>\n",
       "    </tr>\n",
       "    <tr>\n",
       "      <th>min</th>\n",
       "      <td>41.713925</td>\n",
       "      <td>-88.096468</td>\n",
       "    </tr>\n",
       "    <tr>\n",
       "      <th>25%</th>\n",
       "      <td>41.785001</td>\n",
       "      <td>-87.794225</td>\n",
       "    </tr>\n",
       "    <tr>\n",
       "      <th>50%</th>\n",
       "      <td>41.940075</td>\n",
       "      <td>-87.727853</td>\n",
       "    </tr>\n",
       "    <tr>\n",
       "      <th>75%</th>\n",
       "      <td>41.980978</td>\n",
       "      <td>-87.694108</td>\n",
       "    </tr>\n",
       "    <tr>\n",
       "      <th>max</th>\n",
       "      <td>42.395983</td>\n",
       "      <td>-87.586727</td>\n",
       "    </tr>\n",
       "  </tbody>\n",
       "</table>\n",
       "</div>"
      ],
      "text/plain": [
       "           Latitude     Longitude\n",
       "count  14835.000000  14835.000000\n",
       "mean      41.904828    -87.736690\n",
       "std        0.104381      0.067292\n",
       "min       41.713925    -88.096468\n",
       "25%       41.785001    -87.794225\n",
       "50%       41.940075    -87.727853\n",
       "75%       41.980978    -87.694108\n",
       "max       42.395983    -87.586727"
      ]
     },
     "execution_count": 3,
     "metadata": {},
     "output_type": "execute_result"
    }
   ],
   "source": [
    "df_spray.describe()"
   ]
  },
  {
   "cell_type": "code",
   "execution_count": 4,
   "metadata": {},
   "outputs": [
    {
     "data": {
      "text/html": [
       "<div>\n",
       "<style>\n",
       "    .dataframe thead tr:only-child th {\n",
       "        text-align: right;\n",
       "    }\n",
       "\n",
       "    .dataframe thead th {\n",
       "        text-align: left;\n",
       "    }\n",
       "\n",
       "    .dataframe tbody tr th {\n",
       "        vertical-align: top;\n",
       "    }\n",
       "</style>\n",
       "<table border=\"1\" class=\"dataframe\">\n",
       "  <thead>\n",
       "    <tr style=\"text-align: right;\">\n",
       "      <th></th>\n",
       "      <th>Station</th>\n",
       "      <th>Tmax</th>\n",
       "      <th>Tmin</th>\n",
       "      <th>DewPoint</th>\n",
       "      <th>ResultSpeed</th>\n",
       "      <th>ResultDir</th>\n",
       "    </tr>\n",
       "  </thead>\n",
       "  <tbody>\n",
       "    <tr>\n",
       "      <th>count</th>\n",
       "      <td>2944.000000</td>\n",
       "      <td>2944.000000</td>\n",
       "      <td>2944.000000</td>\n",
       "      <td>2944.000000</td>\n",
       "      <td>2944.000000</td>\n",
       "      <td>2944.000000</td>\n",
       "    </tr>\n",
       "    <tr>\n",
       "      <th>mean</th>\n",
       "      <td>1.500000</td>\n",
       "      <td>76.166101</td>\n",
       "      <td>57.810462</td>\n",
       "      <td>53.457880</td>\n",
       "      <td>6.960666</td>\n",
       "      <td>17.494905</td>\n",
       "    </tr>\n",
       "    <tr>\n",
       "      <th>std</th>\n",
       "      <td>0.500085</td>\n",
       "      <td>11.461970</td>\n",
       "      <td>10.381939</td>\n",
       "      <td>10.675181</td>\n",
       "      <td>3.587527</td>\n",
       "      <td>10.063609</td>\n",
       "    </tr>\n",
       "    <tr>\n",
       "      <th>min</th>\n",
       "      <td>1.000000</td>\n",
       "      <td>41.000000</td>\n",
       "      <td>29.000000</td>\n",
       "      <td>22.000000</td>\n",
       "      <td>0.100000</td>\n",
       "      <td>1.000000</td>\n",
       "    </tr>\n",
       "    <tr>\n",
       "      <th>25%</th>\n",
       "      <td>1.000000</td>\n",
       "      <td>69.000000</td>\n",
       "      <td>50.000000</td>\n",
       "      <td>46.000000</td>\n",
       "      <td>4.300000</td>\n",
       "      <td>7.000000</td>\n",
       "    </tr>\n",
       "    <tr>\n",
       "      <th>50%</th>\n",
       "      <td>1.500000</td>\n",
       "      <td>78.000000</td>\n",
       "      <td>59.000000</td>\n",
       "      <td>54.000000</td>\n",
       "      <td>6.400000</td>\n",
       "      <td>19.000000</td>\n",
       "    </tr>\n",
       "    <tr>\n",
       "      <th>75%</th>\n",
       "      <td>2.000000</td>\n",
       "      <td>85.000000</td>\n",
       "      <td>66.000000</td>\n",
       "      <td>62.000000</td>\n",
       "      <td>9.200000</td>\n",
       "      <td>25.000000</td>\n",
       "    </tr>\n",
       "    <tr>\n",
       "      <th>max</th>\n",
       "      <td>2.000000</td>\n",
       "      <td>104.000000</td>\n",
       "      <td>83.000000</td>\n",
       "      <td>75.000000</td>\n",
       "      <td>24.100000</td>\n",
       "      <td>36.000000</td>\n",
       "    </tr>\n",
       "  </tbody>\n",
       "</table>\n",
       "</div>"
      ],
      "text/plain": [
       "           Station         Tmax         Tmin     DewPoint  ResultSpeed  \\\n",
       "count  2944.000000  2944.000000  2944.000000  2944.000000  2944.000000   \n",
       "mean      1.500000    76.166101    57.810462    53.457880     6.960666   \n",
       "std       0.500085    11.461970    10.381939    10.675181     3.587527   \n",
       "min       1.000000    41.000000    29.000000    22.000000     0.100000   \n",
       "25%       1.000000    69.000000    50.000000    46.000000     4.300000   \n",
       "50%       1.500000    78.000000    59.000000    54.000000     6.400000   \n",
       "75%       2.000000    85.000000    66.000000    62.000000     9.200000   \n",
       "max       2.000000   104.000000    83.000000    75.000000    24.100000   \n",
       "\n",
       "         ResultDir  \n",
       "count  2944.000000  \n",
       "mean     17.494905  \n",
       "std      10.063609  \n",
       "min       1.000000  \n",
       "25%       7.000000  \n",
       "50%      19.000000  \n",
       "75%      25.000000  \n",
       "max      36.000000  "
      ]
     },
     "execution_count": 4,
     "metadata": {},
     "output_type": "execute_result"
    }
   ],
   "source": [
    "df_weather.describe()"
   ]
  },
  {
   "cell_type": "code",
   "execution_count": 5,
   "metadata": {
    "scrolled": false
   },
   "outputs": [
    {
     "data": {
      "text/plain": [
       "['Station',\n",
       " 'Date',\n",
       " 'Tmax',\n",
       " 'Tmin',\n",
       " 'Tavg',\n",
       " 'Depart',\n",
       " 'DewPoint',\n",
       " 'WetBulb',\n",
       " 'Heat',\n",
       " 'Cool',\n",
       " 'Sunrise',\n",
       " 'Sunset',\n",
       " 'CodeSum',\n",
       " 'Depth',\n",
       " 'Water1',\n",
       " 'SnowFall',\n",
       " 'PrecipTotal',\n",
       " 'StnPressure',\n",
       " 'SeaLevel',\n",
       " 'ResultSpeed',\n",
       " 'ResultDir',\n",
       " 'AvgSpeed']"
      ]
     },
     "execution_count": 5,
     "metadata": {},
     "output_type": "execute_result"
    }
   ],
   "source": [
    "list(df_weather)"
   ]
  },
  {
   "cell_type": "code",
   "execution_count": 6,
   "metadata": {},
   "outputs": [
    {
     "data": {
      "text/html": [
       "<div>\n",
       "<style>\n",
       "    .dataframe thead tr:only-child th {\n",
       "        text-align: right;\n",
       "    }\n",
       "\n",
       "    .dataframe thead th {\n",
       "        text-align: left;\n",
       "    }\n",
       "\n",
       "    .dataframe tbody tr th {\n",
       "        vertical-align: top;\n",
       "    }\n",
       "</style>\n",
       "<table border=\"1\" class=\"dataframe\">\n",
       "  <thead>\n",
       "    <tr style=\"text-align: right;\">\n",
       "      <th></th>\n",
       "      <th>Date</th>\n",
       "      <th>Address</th>\n",
       "      <th>Species</th>\n",
       "      <th>Block</th>\n",
       "      <th>Street</th>\n",
       "      <th>Trap</th>\n",
       "      <th>AddressNumberAndStreet</th>\n",
       "      <th>Latitude</th>\n",
       "      <th>Longitude</th>\n",
       "      <th>AddressAccuracy</th>\n",
       "      <th>NumMosquitos</th>\n",
       "      <th>WnvPresent</th>\n",
       "    </tr>\n",
       "  </thead>\n",
       "  <tbody>\n",
       "    <tr>\n",
       "      <th>0</th>\n",
       "      <td>2007-05-29</td>\n",
       "      <td>4100 North Oak Park Avenue, Chicago, IL 60634,...</td>\n",
       "      <td>CULEX PIPIENS/RESTUANS</td>\n",
       "      <td>41</td>\n",
       "      <td>N OAK PARK AVE</td>\n",
       "      <td>T002</td>\n",
       "      <td>4100  N OAK PARK AVE, Chicago, IL</td>\n",
       "      <td>41.954690</td>\n",
       "      <td>-87.800991</td>\n",
       "      <td>9</td>\n",
       "      <td>1</td>\n",
       "      <td>0</td>\n",
       "    </tr>\n",
       "    <tr>\n",
       "      <th>1</th>\n",
       "      <td>2007-05-29</td>\n",
       "      <td>4100 North Oak Park Avenue, Chicago, IL 60634,...</td>\n",
       "      <td>CULEX RESTUANS</td>\n",
       "      <td>41</td>\n",
       "      <td>N OAK PARK AVE</td>\n",
       "      <td>T002</td>\n",
       "      <td>4100  N OAK PARK AVE, Chicago, IL</td>\n",
       "      <td>41.954690</td>\n",
       "      <td>-87.800991</td>\n",
       "      <td>9</td>\n",
       "      <td>1</td>\n",
       "      <td>0</td>\n",
       "    </tr>\n",
       "    <tr>\n",
       "      <th>2</th>\n",
       "      <td>2007-05-29</td>\n",
       "      <td>6200 North Mandell Avenue, Chicago, IL 60646, USA</td>\n",
       "      <td>CULEX RESTUANS</td>\n",
       "      <td>62</td>\n",
       "      <td>N MANDELL AVE</td>\n",
       "      <td>T007</td>\n",
       "      <td>6200  N MANDELL AVE, Chicago, IL</td>\n",
       "      <td>41.994991</td>\n",
       "      <td>-87.769279</td>\n",
       "      <td>9</td>\n",
       "      <td>1</td>\n",
       "      <td>0</td>\n",
       "    </tr>\n",
       "  </tbody>\n",
       "</table>\n",
       "</div>"
      ],
      "text/plain": [
       "         Date                                            Address  \\\n",
       "0  2007-05-29  4100 North Oak Park Avenue, Chicago, IL 60634,...   \n",
       "1  2007-05-29  4100 North Oak Park Avenue, Chicago, IL 60634,...   \n",
       "2  2007-05-29  6200 North Mandell Avenue, Chicago, IL 60646, USA   \n",
       "\n",
       "                  Species  Block           Street  Trap  \\\n",
       "0  CULEX PIPIENS/RESTUANS     41   N OAK PARK AVE  T002   \n",
       "1          CULEX RESTUANS     41   N OAK PARK AVE  T002   \n",
       "2          CULEX RESTUANS     62    N MANDELL AVE  T007   \n",
       "\n",
       "              AddressNumberAndStreet   Latitude  Longitude  AddressAccuracy  \\\n",
       "0  4100  N OAK PARK AVE, Chicago, IL  41.954690 -87.800991                9   \n",
       "1  4100  N OAK PARK AVE, Chicago, IL  41.954690 -87.800991                9   \n",
       "2   6200  N MANDELL AVE, Chicago, IL  41.994991 -87.769279                9   \n",
       "\n",
       "   NumMosquitos  WnvPresent  \n",
       "0             1           0  \n",
       "1             1           0  \n",
       "2             1           0  "
      ]
     },
     "execution_count": 6,
     "metadata": {},
     "output_type": "execute_result"
    }
   ],
   "source": [
    "df_train.head(3)\n"
   ]
  },
  {
   "cell_type": "code",
   "execution_count": 7,
   "metadata": {},
   "outputs": [
    {
     "data": {
      "text/plain": [
       "Date                       object\n",
       "Address                    object\n",
       "Species                    object\n",
       "Block                       int64\n",
       "Street                     object\n",
       "Trap                       object\n",
       "AddressNumberAndStreet     object\n",
       "Latitude                  float64\n",
       "Longitude                 float64\n",
       "AddressAccuracy             int64\n",
       "NumMosquitos                int64\n",
       "WnvPresent                  int64\n",
       "dtype: object"
      ]
     },
     "execution_count": 7,
     "metadata": {},
     "output_type": "execute_result"
    }
   ],
   "source": [
    "df_train.dtypes"
   ]
  },
  {
   "cell_type": "code",
   "execution_count": 8,
   "metadata": {},
   "outputs": [
    {
     "data": {
      "text/plain": [
       "ORD Terminal 5, O'Hare International Airport, Chicago, IL 60666, USA    750\n",
       "Name: Address, dtype: int64"
      ]
     },
     "execution_count": 8,
     "metadata": {},
     "output_type": "execute_result"
    }
   ],
   "source": [
    "# Check whether 1:1 correspondance between traps and location\n",
    "df_train[df_train.Trap=='T900'].Address.value_counts()"
   ]
  },
  {
   "cell_type": "code",
   "execution_count": 9,
   "metadata": {},
   "outputs": [
    {
     "name": "stdout",
     "output_type": "stream",
     "text": [
      "South Doty Avenue, Chicago, IL, USA    542\n",
      "Name: Address, dtype: int64\n",
      "12    542\n",
      "Name: Block, dtype: int64\n"
     ]
    }
   ],
   "source": [
    "# Check whether 1:1 correspondance between traps and location\n",
    "print df_train[df_train.Trap=='T115'].Address.value_counts()\n",
    "print df_train[df_train.Trap=='T115'].Block.value_counts()"
   ]
  },
  {
   "cell_type": "code",
   "execution_count": 10,
   "metadata": {},
   "outputs": [
    {
     "name": "stdout",
     "output_type": "stream",
     "text": [
      "South Stony Island Avenue, Chicago, IL, USA    314\n",
      "Name: Address, dtype: int64\n",
      "10    314\n",
      "Name: Block, dtype: int64\n"
     ]
    }
   ],
   "source": [
    "# Check whether 1:1 correspondance between traps and location\n",
    "print df_train[df_train.Trap=='T138'].Address.value_counts()\n",
    "print df_train[df_train.Trap=='T138'].Block.value_counts()"
   ]
  },
  {
   "cell_type": "code",
   "execution_count": 11,
   "metadata": {},
   "outputs": [
    {
     "name": "stdout",
     "output_type": "stream",
     "text": [
      "4100 North Oak Park Avenue, Chicago, IL 60634, USA    185\n",
      "Name: Address, dtype: int64\n",
      "41    185\n",
      "Name: Block, dtype: int64\n"
     ]
    }
   ],
   "source": [
    "# Check whether 1:1 correspondance between traps and location\n",
    "print df_train[df_train.Trap=='T002'].Address.value_counts()\n",
    "print df_train[df_train.Trap=='T002'].Block.value_counts()"
   ]
  },
  {
   "cell_type": "markdown",
   "metadata": {
    "collapsed": true
   },
   "source": [
    "##### There is a 1:1:1:1 mapping between Trap, Block,Address, and AddressNumberandStreet\n",
    "For purposes of regression we only need one of them in the input data set"
   ]
  },
  {
   "cell_type": "code",
   "execution_count": 12,
   "metadata": {},
   "outputs": [
    {
     "name": "stdout",
     "output_type": "stream",
     "text": [
      "Primary trap\n",
      "1700 West 95th Street, Chicago, IL 60643, USA    121\n",
      "Name: Address, dtype: int64\n",
      "17    121\n",
      "Name: Block, dtype: int64\n",
      "41.720848    121\n",
      "Name: Latitude, dtype: int64\n",
      "-87.666014    121\n",
      "Name: Longitude, dtype: int64\n",
      "Sattelite trap\n",
      "9600 South Longwood Drive, Chicago, IL 60643, USA    5\n",
      "Name: Address, dtype: int64\n",
      "96    5\n",
      "Name: Block, dtype: int64\n",
      "41.71914    5\n",
      "Name: Latitude, dtype: int64\n",
      "-87.669539    5\n",
      "Name: Longitude, dtype: int64\n"
     ]
    }
   ],
   "source": [
    "# Investigate statement: Some traps are \"satellite traps\". These are traps that are set up near \n",
    "# (usually within 6 blocks) an established trap to enhance surveillance efforts. \n",
    "# Satellite traps are postfixed with letters. For example, T220A is a satellite trap to T220. \n",
    "print 'Primary trap'\n",
    "print df_train[df_train.Trap=='T094'].Address.value_counts()\n",
    "print df_train[df_train.Trap=='T094'].Block.value_counts()\n",
    "print df_train[df_train.Trap=='T094'].Latitude.value_counts()\n",
    "print df_train[df_train.Trap=='T094'].Longitude.value_counts()\n",
    "print 'Sattelite trap'\n",
    "print df_train[df_train.Trap=='T094B'].Address.value_counts()\n",
    "print df_train[df_train.Trap=='T094B'].Block.value_counts()\n",
    "print df_train[df_train.Trap=='T094B'].Latitude.value_counts()\n",
    "print df_train[df_train.Trap=='T094B'].Longitude.value_counts()\n"
   ]
  },
  {
   "cell_type": "markdown",
   "metadata": {
    "collapsed": true
   },
   "source": [
    "##### Satelite traps have different block, latitude, and longitude data than primary traps"
   ]
  },
  {
   "cell_type": "code",
   "execution_count": 13,
   "metadata": {
    "collapsed": true
   },
   "outputs": [],
   "source": [
    "### Matt started here\n",
    "# change type of date\n",
    "# Not sure what address accuracy is - values 8,9,5,3\n",
    "# No null values\n",
    "# Difference between mosquito types? - make dummy variables for mosquito species\n",
    "# Traps all have at least one mosquito\n",
    "# 10506 rows, 12 columns\n",
    "# Address number and street are redundant of address, perhaps of latitude / longitude?\n",
    "# 136 traps.   Do they stay at the same place?"
   ]
  },
  {
   "cell_type": "code",
   "execution_count": 14,
   "metadata": {
    "collapsed": true
   },
   "outputs": [],
   "source": [
    "#Date                       object  - convert to date format\n",
    "#Address                    object  - redundant to Trap, remove for regression, may want zip code from\n",
    "#Species                    object  - 7 types, convert to dummy variable?  Or is it useful in regression?\n",
    "#                                          - some more likely to carry virus?\n",
    "#Block                       int64  - redundant to Trap, remove for regression\n",
    "#Street                     object  - redundant to Trap, remove for regression\n",
    "#Trap                       object  - do we want to regress on this as categorical or  Lat&Long? \n",
    "#AddressNumberAndStreet     object  - redundant to Trap, remove for regression\n",
    "#Latitude                  float64  - do we want to regress on this?   Don't think we want to treat as continuous variable\n",
    "#Longitude                 float64  - do we want to regress on this?   Don't think we want to treat as continuous variable\n",
    "#AddressAccuracy             int64  - 3,5,9,8 from GeoCoder.   See defn below - This probably doesn't belong in the regression\n",
    "#                                    - When a 3 or 5 has the virus, may want to spray wider area\n",
    "#NumMosquitos                int64  - 1 to 50 - when above 50, another record is created\n",
    "#                                    - Not sure how to treat multiple rows for same trap and same day\n",
    "#                                    - Some multiples are different mosquito, some are the same, but may be Y/N on WNV\n",
    "#WnvPresent                  int64  - 0 (WNV not present, about 95%) or 1 (WNV present, about 5%)\n",
    "\n"
   ]
  },
  {
   "cell_type": "code",
   "execution_count": 15,
   "metadata": {},
   "outputs": [
    {
     "data": {
      "text/plain": [
       "8    4628\n",
       "9    3980\n",
       "5    1807\n",
       "3      91\n",
       "Name: AddressAccuracy, dtype: int64"
      ]
     },
     "execution_count": 15,
     "metadata": {},
     "output_type": "execute_result"
    }
   ],
   "source": [
    "# Understand what address accuracy field is\n",
    "# address accuracy counts\n",
    "df_train.AddressAccuracy.value_counts()"
   ]
  },
  {
   "cell_type": "markdown",
   "metadata": {},
   "source": [
    "##### Definition of Address Accuracy\n",
    "Address Accuracy - When the geocoder receives a query it attempts to find the best matched feature for the address \n",
    "given. Depending on the amount of data we have for the area concerned, it may be able to identify a \n",
    "specific building that matches, or it may only be able to match the street or district.  \n",
    "If it can only match a higher level feature such as the district it will still return a lat/long,\n",
    "but it will be for the centroid of that feature, which is likely to be offset from the location \n",
    "of the specific address requested. The Accuracy tells you the scale of the object that matched, \n",
    "so you know how precise the geocode is likely to be.\n",
    "https://www.experts-exchange.com/questions/27986524/How-do-I-translate-the-Google-maps-v3-Geocode-location-type-to-a-Geocode-score-0-9.html\n",
    "3 = Sub-region (county, municipality, etc.) level accuracy  - 91 of these\n",
    "5 = Post code (zip code) level accuracy  - 1807 of these\n",
    "8 = Address level accuracy  -  4628 of these - this is very accurate\n",
    "9 = Premise (building name, property name, shopping center, etc.) level accuracy - 3980 of these - this is very accurate\n",
    "\n",
    "For our analysis, this is likely not a key variable"
   ]
  },
  {
   "cell_type": "code",
   "execution_count": 16,
   "metadata": {},
   "outputs": [
    {
     "data": {
      "text/plain": [
       "2031"
      ]
     },
     "execution_count": 16,
     "metadata": {},
     "output_type": "execute_result"
    }
   ],
   "source": [
    "# Need to understand how many records are from the same date with the same trap.   Should we combine them?\n",
    "\n",
    "# Create a dataframe with just date, trap number, and species.   Check for how many duplicates\n",
    "df_temp = df_train[['Date','Trap','Species']]\n",
    "df_temp.duplicated().sum()"
   ]
  },
  {
   "cell_type": "markdown",
   "metadata": {
    "collapsed": true
   },
   "source": [
    "###### Many traps have multiple records for the same day.   If more than 50 of a particular mosquito, a new record is made."
   ]
  },
  {
   "cell_type": "markdown",
   "metadata": {
    "collapsed": true
   },
   "source": [
    "##### Check if all mosquito types have WNV"
   ]
  },
  {
   "cell_type": "code",
   "execution_count": 17,
   "metadata": {},
   "outputs": [
    {
     "data": {
      "text/plain": [
       "CULEX PIPIENS/RESTUANS    262\n",
       "CULEX PIPIENS             240\n",
       "CULEX RESTUANS             49\n",
       "Name: Species, dtype: int64"
      ]
     },
     "execution_count": 17,
     "metadata": {},
     "output_type": "execute_result"
    }
   ],
   "source": [
    "df_train[df_train.WnvPresent==1].Species.value_counts()\n"
   ]
  },
  {
   "cell_type": "code",
   "execution_count": 18,
   "metadata": {},
   "outputs": [
    {
     "data": {
      "text/plain": [
       "CULEX PIPIENS/RESTUANS    4490\n",
       "CULEX RESTUANS            2691\n",
       "CULEX PIPIENS             2459\n",
       "CULEX TERRITANS            222\n",
       "CULEX SALINARIUS            86\n",
       "CULEX TARSALIS               6\n",
       "CULEX ERRATICUS              1\n",
       "Name: Species, dtype: int64"
      ]
     },
     "execution_count": 18,
     "metadata": {},
     "output_type": "execute_result"
    }
   ],
   "source": [
    "# compare to those without Wnv\n",
    "df_train[df_train.WnvPresent==0].Species.value_counts()"
   ]
  },
  {
   "cell_type": "code",
   "execution_count": 19,
   "metadata": {},
   "outputs": [
    {
     "data": {
      "text/plain": [
       "'  Quick calculation in xls.   Some type of mosquitos more likely to have WNV.\\nRows\\t\\t\\t                     No WNV\\tWNV\\tTotal\\t% with\\nCULEX PIPIENS/RESTUANS    \\t\\t\\t4490\\t262\\t4752\\t5.5%\\nCULEX RESTUANS           \\t\\t\\t2691\\t49\\t2740\\t1.8%\\nCULEX PIPIENS             \\t\\t\\t2459\\t240\\t2699\\t8.9%\\nCULEX TERRITANS            \\t\\t\\t222\\t    0\\t222\\t    0.0%\\nCULEX SALINARIUS        \\t\\t\\t86\\t    0\\t86\\t    0.0%\\nCULEX TARSALIS          \\t\\t\\t6\\t    0\\t6\\t    0.0%\\nCULEX ERRATICUS            \\t\\t\\t1\\t    0\\t1\\t    0.0%\\n\\t\\t\\t                        9955\\t551\\t10506\\t5.2%'"
      ]
     },
     "execution_count": 19,
     "metadata": {},
     "output_type": "execute_result"
    }
   ],
   "source": [
    "'''  Quick calculation in xls.   Some type of mosquitos more likely to have WNV.\n",
    "Rows\t\t\t                     No WNV\tWNV\tTotal\t% with\n",
    "CULEX PIPIENS/RESTUANS    \t\t\t4490\t262\t4752\t5.5%\n",
    "CULEX RESTUANS           \t\t\t2691\t49\t2740\t1.8%\n",
    "CULEX PIPIENS             \t\t\t2459\t240\t2699\t8.9%\n",
    "CULEX TERRITANS            \t\t\t222\t    0\t222\t    0.0%\n",
    "CULEX SALINARIUS        \t\t\t86\t    0\t86\t    0.0%\n",
    "CULEX TARSALIS          \t\t\t6\t    0\t6\t    0.0%\n",
    "CULEX ERRATICUS            \t\t\t1\t    0\t1\t    0.0%\n",
    "\t\t\t                        9955\t551\t10506\t5.2%'''"
   ]
  },
  {
   "cell_type": "markdown",
   "metadata": {
    "collapsed": true
   },
   "source": [
    "##### Check if % or mosquitos with WNV is statistically different by mosquito type"
   ]
  },
  {
   "cell_type": "code",
   "execution_count": 20,
   "metadata": {},
   "outputs": [
    {
     "data": {
      "text/plain": [
       "(55.436573984211044,\n",
       " 9.652371892086369e-14,\n",
       " 1,\n",
       " array([[ 4814.15968217,   199.84031783],\n",
       "        [ 2677.84031783,   111.15968217]]))"
      ]
     },
     "execution_count": 20,
     "metadata": {},
     "output_type": "execute_result"
    }
   ],
   "source": [
    "# Do chi squared test\n",
    "from scipy import stats\n",
    "import numpy as np\n",
    "# do test for  Restuans vs. Pipiens / Restuans\n",
    "disease = np.array([[4752,262], [2740,49]])\n",
    "stats.chi2_contingency(disease)"
   ]
  },
  {
   "cell_type": "code",
   "execution_count": 21,
   "metadata": {},
   "outputs": [
    {
     "data": {
      "text/plain": [
       "(26.600088228381278,\n",
       " 2.5023232591543785e-07,\n",
       " 1,\n",
       " array([[ 4697.51213379,   316.48786621],\n",
       "        [ 2753.48786621,   185.51213379]]))"
      ]
     },
     "execution_count": 21,
     "metadata": {},
     "output_type": "execute_result"
    }
   ],
   "source": [
    "# output is x-squared and p value\n",
    "# p-value is small so unlikely from same sample\n",
    "\n",
    "# try again with Pipiens vs. Pipiens / Restuans\n",
    "disease = np.array([[4752,262], [2699,240]])\n",
    "stats.chi2_contingency(disease)"
   ]
  },
  {
   "cell_type": "code",
   "execution_count": 22,
   "metadata": {
    "collapsed": true
   },
   "outputs": [],
   "source": [
    "# p-value is small so unlikely from same sample"
   ]
  },
  {
   "cell_type": "markdown",
   "metadata": {
    "collapsed": true
   },
   "source": [
    "##### WNV is more prevalent in some species, but we still need to consider all species"
   ]
  },
  {
   "cell_type": "markdown",
   "metadata": {
    "collapsed": true
   },
   "source": [
    "#### Change formating of some columns"
   ]
  },
  {
   "cell_type": "code",
   "execution_count": 23,
   "metadata": {
    "collapsed": true
   },
   "outputs": [],
   "source": [
    "## Change date column to datetime and add a Year and Day of Year column\n",
    "df_train['Date']= pd.to_datetime(df_train.Date)\n",
    "df_train['Year']= df_train.Date.dt.year\n",
    "df_train['DayofYear']= df_train.Date.dt.dayofyear"
   ]
  },
  {
   "cell_type": "code",
   "execution_count": 24,
   "metadata": {},
   "outputs": [
    {
     "data": {
      "text/plain": [
       "Date                      datetime64[ns]\n",
       "Address                           object\n",
       "Species                           object\n",
       "Block                              int64\n",
       "Street                            object\n",
       "Trap                              object\n",
       "AddressNumberAndStreet            object\n",
       "Latitude                         float64\n",
       "Longitude                        float64\n",
       "AddressAccuracy                    int64\n",
       "NumMosquitos                       int64\n",
       "WnvPresent                         int64\n",
       "Year                               int64\n",
       "DayofYear                          int64\n",
       "dtype: object"
      ]
     },
     "execution_count": 24,
     "metadata": {},
     "output_type": "execute_result"
    }
   ],
   "source": [
    "df_train.dtypes"
   ]
  },
  {
   "cell_type": "code",
   "execution_count": 25,
   "metadata": {
    "collapsed": true
   },
   "outputs": [],
   "source": [
    "# Label encode the trap column\n",
    "from sklearn import ensemble, preprocessing\n",
    "lbls = preprocessing.LabelEncoder()\n",
    "lbls.fit(list(df_train['Trap'].values) + list(df_test['Trap'].values))\n",
    "df_train['Trap'] = lbls.transform(df_train['Trap'].values)\n",
    "df_test['Trap'] = lbls.transform(df_test['Trap'].values)"
   ]
  },
  {
   "cell_type": "code",
   "execution_count": 26,
   "metadata": {
    "collapsed": true
   },
   "outputs": [],
   "source": [
    "# Label encode the Species column\n",
    "lbls.fit(list(df_train['Species'].values) + list(df_test['Species'].values))\n",
    "df_train['Species'] = lbls.transform(df_train['Species'].values)\n",
    "df_test['Species'] = lbls.transform(df_test['Species'].values)"
   ]
  },
  {
   "cell_type": "code",
   "execution_count": 27,
   "metadata": {
    "collapsed": true,
    "scrolled": false
   },
   "outputs": [],
   "source": [
    "# Sort train dataframe by date,trap, and species to group like rows together\n",
    "\n",
    "df_train.sort_values(['Date', 'Trap','Species'], ascending=[True, True,True],inplace=True)"
   ]
  },
  {
   "cell_type": "code",
   "execution_count": 28,
   "metadata": {
    "collapsed": true
   },
   "outputs": [],
   "source": [
    "# Build a new data frame that aggregates the rows with the same date, trap, and species number\n",
    "\n",
    "# Start by placing first row of existing dataframe in new dataframe\n",
    "df_train2 = df_train[0:1]\n",
    "\n",
    "# Get column indices for number of mosquitos and West Nile Virus present.   \n",
    "Mosq_col = df_train.columns.get_loc(\"NumMosquitos\")\n",
    "Wnv = df_train.columns.get_loc(\"WnvPresent\")\n",
    "\n",
    "# Loop through the existing data frame starting with the second row.   \n",
    "for i in range(1,len(df_train)):\n",
    "\n",
    "    # If the date, trap number, and species are the same as the last row in the new dataframe:\n",
    "    if ((df_train.iloc[i].Date == df_train2.iloc[-1].Date)&(df_train.iloc[i].Trap == df_train2.iloc[-1].Trap)&(df_train.iloc[i].\n",
    "                                                                                                                               Species== df_train2.iloc[-1].Species)):\n",
    "    #   add the mosquitos numbers on to the current values in last row of new dataframe\n",
    "         df_train2.set_value(-1,Mosq_col, (df_train2.iloc[-1].NumMosquitos + df_train.iloc[i].NumMosquitos),takeable=True )\n",
    "\n",
    "        #   if WNV = 1 then change WNV to 1\n",
    "         if (df_train.iloc[i].WnvPresent == 1):\n",
    "            df_train2.set_value(-1,Wnv,1,takeable=True )\n",
    "\n",
    "    else:\n",
    "    #   add the row to the end of the dataframe\n",
    "        df_train2 = df_train2.append(df_train[i:i+1])\n",
    "   "
   ]
  },
  {
   "cell_type": "code",
   "execution_count": 29,
   "metadata": {},
   "outputs": [
    {
     "data": {
      "text/plain": [
       "(8475, 14)"
      ]
     },
     "execution_count": 29,
     "metadata": {},
     "output_type": "execute_result"
    }
   ],
   "source": [
    "df_train2.shape"
   ]
  },
  {
   "cell_type": "code",
   "execution_count": 30,
   "metadata": {
    "collapsed": true
   },
   "outputs": [],
   "source": [
    "# drop columns not using in initial regressions\n",
    "drop_cols = ['Address','Block','Street','AddressNumberAndStreet','AddressAccuracy']\n",
    "\n",
    "df_train3 = df_train2.drop(drop_cols,axis=1)\n",
    "\n"
   ]
  },
  {
   "cell_type": "code",
   "execution_count": 31,
   "metadata": {
    "scrolled": true
   },
   "outputs": [
    {
     "data": {
      "text/plain": [
       "(8475, 9)"
      ]
     },
     "execution_count": 31,
     "metadata": {},
     "output_type": "execute_result"
    }
   ],
   "source": [
    "df_train3.shape"
   ]
  },
  {
   "cell_type": "code",
   "execution_count": 32,
   "metadata": {
    "scrolled": true
   },
   "outputs": [
    {
     "data": {
      "text/html": [
       "<div>\n",
       "<style>\n",
       "    .dataframe thead tr:only-child th {\n",
       "        text-align: right;\n",
       "    }\n",
       "\n",
       "    .dataframe thead th {\n",
       "        text-align: left;\n",
       "    }\n",
       "\n",
       "    .dataframe tbody tr th {\n",
       "        vertical-align: top;\n",
       "    }\n",
       "</style>\n",
       "<table border=\"1\" class=\"dataframe\">\n",
       "  <thead>\n",
       "    <tr style=\"text-align: right;\">\n",
       "      <th></th>\n",
       "      <th>Date</th>\n",
       "      <th>Species</th>\n",
       "      <th>Trap</th>\n",
       "      <th>Latitude</th>\n",
       "      <th>Longitude</th>\n",
       "      <th>NumMosquitos</th>\n",
       "      <th>WnvPresent</th>\n",
       "      <th>Year</th>\n",
       "      <th>DayofYear</th>\n",
       "    </tr>\n",
       "  </thead>\n",
       "  <tbody>\n",
       "    <tr>\n",
       "      <th>0</th>\n",
       "      <td>2007-05-29</td>\n",
       "      <td>2</td>\n",
       "      <td>1</td>\n",
       "      <td>41.954690</td>\n",
       "      <td>-87.800991</td>\n",
       "      <td>1</td>\n",
       "      <td>0</td>\n",
       "      <td>2007</td>\n",
       "      <td>149</td>\n",
       "    </tr>\n",
       "    <tr>\n",
       "      <th>1</th>\n",
       "      <td>2007-05-29</td>\n",
       "      <td>3</td>\n",
       "      <td>1</td>\n",
       "      <td>41.954690</td>\n",
       "      <td>-87.800991</td>\n",
       "      <td>1</td>\n",
       "      <td>0</td>\n",
       "      <td>2007</td>\n",
       "      <td>149</td>\n",
       "    </tr>\n",
       "    <tr>\n",
       "      <th>2</th>\n",
       "      <td>2007-05-29</td>\n",
       "      <td>3</td>\n",
       "      <td>8</td>\n",
       "      <td>41.994991</td>\n",
       "      <td>-87.769279</td>\n",
       "      <td>1</td>\n",
       "      <td>0</td>\n",
       "      <td>2007</td>\n",
       "      <td>149</td>\n",
       "    </tr>\n",
       "    <tr>\n",
       "      <th>3</th>\n",
       "      <td>2007-05-29</td>\n",
       "      <td>2</td>\n",
       "      <td>15</td>\n",
       "      <td>41.974089</td>\n",
       "      <td>-87.824812</td>\n",
       "      <td>1</td>\n",
       "      <td>0</td>\n",
       "      <td>2007</td>\n",
       "      <td>149</td>\n",
       "    </tr>\n",
       "    <tr>\n",
       "      <th>4</th>\n",
       "      <td>2007-05-29</td>\n",
       "      <td>3</td>\n",
       "      <td>15</td>\n",
       "      <td>41.974089</td>\n",
       "      <td>-87.824812</td>\n",
       "      <td>4</td>\n",
       "      <td>0</td>\n",
       "      <td>2007</td>\n",
       "      <td>149</td>\n",
       "    </tr>\n",
       "    <tr>\n",
       "      <th>5</th>\n",
       "      <td>2007-05-29</td>\n",
       "      <td>3</td>\n",
       "      <td>34</td>\n",
       "      <td>41.921600</td>\n",
       "      <td>-87.666455</td>\n",
       "      <td>2</td>\n",
       "      <td>0</td>\n",
       "      <td>2007</td>\n",
       "      <td>149</td>\n",
       "    </tr>\n",
       "    <tr>\n",
       "      <th>6</th>\n",
       "      <td>2007-05-29</td>\n",
       "      <td>3</td>\n",
       "      <td>35</td>\n",
       "      <td>41.891118</td>\n",
       "      <td>-87.654491</td>\n",
       "      <td>1</td>\n",
       "      <td>0</td>\n",
       "      <td>2007</td>\n",
       "      <td>149</td>\n",
       "    </tr>\n",
       "    <tr>\n",
       "      <th>7</th>\n",
       "      <td>2007-05-29</td>\n",
       "      <td>2</td>\n",
       "      <td>37</td>\n",
       "      <td>41.867108</td>\n",
       "      <td>-87.654224</td>\n",
       "      <td>1</td>\n",
       "      <td>0</td>\n",
       "      <td>2007</td>\n",
       "      <td>149</td>\n",
       "    </tr>\n",
       "    <tr>\n",
       "      <th>8</th>\n",
       "      <td>2007-05-29</td>\n",
       "      <td>3</td>\n",
       "      <td>37</td>\n",
       "      <td>41.867108</td>\n",
       "      <td>-87.654224</td>\n",
       "      <td>2</td>\n",
       "      <td>0</td>\n",
       "      <td>2007</td>\n",
       "      <td>149</td>\n",
       "    </tr>\n",
       "    <tr>\n",
       "      <th>9</th>\n",
       "      <td>2007-05-29</td>\n",
       "      <td>3</td>\n",
       "      <td>38</td>\n",
       "      <td>41.896282</td>\n",
       "      <td>-87.655232</td>\n",
       "      <td>1</td>\n",
       "      <td>0</td>\n",
       "      <td>2007</td>\n",
       "      <td>149</td>\n",
       "    </tr>\n",
       "  </tbody>\n",
       "</table>\n",
       "</div>"
      ],
      "text/plain": [
       "        Date  Species  Trap   Latitude  Longitude  NumMosquitos  WnvPresent  \\\n",
       "0 2007-05-29        2     1  41.954690 -87.800991             1           0   \n",
       "1 2007-05-29        3     1  41.954690 -87.800991             1           0   \n",
       "2 2007-05-29        3     8  41.994991 -87.769279             1           0   \n",
       "3 2007-05-29        2    15  41.974089 -87.824812             1           0   \n",
       "4 2007-05-29        3    15  41.974089 -87.824812             4           0   \n",
       "5 2007-05-29        3    34  41.921600 -87.666455             2           0   \n",
       "6 2007-05-29        3    35  41.891118 -87.654491             1           0   \n",
       "7 2007-05-29        2    37  41.867108 -87.654224             1           0   \n",
       "8 2007-05-29        3    37  41.867108 -87.654224             2           0   \n",
       "9 2007-05-29        3    38  41.896282 -87.655232             1           0   \n",
       "\n",
       "   Year  DayofYear  \n",
       "0  2007        149  \n",
       "1  2007        149  \n",
       "2  2007        149  \n",
       "3  2007        149  \n",
       "4  2007        149  \n",
       "5  2007        149  \n",
       "6  2007        149  \n",
       "7  2007        149  \n",
       "8  2007        149  \n",
       "9  2007        149  "
      ]
     },
     "execution_count": 32,
     "metadata": {},
     "output_type": "execute_result"
    }
   ],
   "source": [
    "df_train3.head(10)"
   ]
  },
  {
   "cell_type": "code",
   "execution_count": 33,
   "metadata": {
    "collapsed": true
   },
   "outputs": [],
   "source": [
    "# df_train3.to_csv('df_train3.csv',index=False)\n"
   ]
  },
  {
   "cell_type": "code",
   "execution_count": 34,
   "metadata": {
    "collapsed": true
   },
   "outputs": [],
   "source": [
    "df_train4 = pd.read_csv('df_train3.csv')"
   ]
  },
  {
   "cell_type": "code",
   "execution_count": 35,
   "metadata": {},
   "outputs": [
    {
     "data": {
      "text/html": [
       "<div>\n",
       "<style>\n",
       "    .dataframe thead tr:only-child th {\n",
       "        text-align: right;\n",
       "    }\n",
       "\n",
       "    .dataframe thead th {\n",
       "        text-align: left;\n",
       "    }\n",
       "\n",
       "    .dataframe tbody tr th {\n",
       "        vertical-align: top;\n",
       "    }\n",
       "</style>\n",
       "<table border=\"1\" class=\"dataframe\">\n",
       "  <thead>\n",
       "    <tr style=\"text-align: right;\">\n",
       "      <th></th>\n",
       "      <th>Trap</th>\n",
       "      <th>NumMosquitos</th>\n",
       "      <th>WnvPresent</th>\n",
       "      <th>Year</th>\n",
       "      <th>DayofYear</th>\n",
       "      <th>CULEX ERRATICUS</th>\n",
       "      <th>CULEX PIPIENS</th>\n",
       "      <th>CULEX PIPIENS/RESTUANS</th>\n",
       "      <th>CULEX RESTUANS</th>\n",
       "      <th>CULEX SALINARIUS</th>\n",
       "      <th>CULEX TARSALIS</th>\n",
       "      <th>CULEX TERRITANS</th>\n",
       "    </tr>\n",
       "  </thead>\n",
       "  <tbody>\n",
       "    <tr>\n",
       "      <th>0</th>\n",
       "      <td>T002</td>\n",
       "      <td>2</td>\n",
       "      <td>0</td>\n",
       "      <td>2007</td>\n",
       "      <td>149</td>\n",
       "      <td>0</td>\n",
       "      <td>0</td>\n",
       "      <td>1</td>\n",
       "      <td>1</td>\n",
       "      <td>0</td>\n",
       "      <td>0</td>\n",
       "      <td>0</td>\n",
       "    </tr>\n",
       "    <tr>\n",
       "      <th>1</th>\n",
       "      <td>T007</td>\n",
       "      <td>1</td>\n",
       "      <td>0</td>\n",
       "      <td>2007</td>\n",
       "      <td>149</td>\n",
       "      <td>0</td>\n",
       "      <td>0</td>\n",
       "      <td>0</td>\n",
       "      <td>1</td>\n",
       "      <td>0</td>\n",
       "      <td>0</td>\n",
       "      <td>0</td>\n",
       "    </tr>\n",
       "    <tr>\n",
       "      <th>2</th>\n",
       "      <td>T015</td>\n",
       "      <td>5</td>\n",
       "      <td>0</td>\n",
       "      <td>2007</td>\n",
       "      <td>149</td>\n",
       "      <td>0</td>\n",
       "      <td>0</td>\n",
       "      <td>1</td>\n",
       "      <td>1</td>\n",
       "      <td>0</td>\n",
       "      <td>0</td>\n",
       "      <td>0</td>\n",
       "    </tr>\n",
       "    <tr>\n",
       "      <th>3</th>\n",
       "      <td>T045</td>\n",
       "      <td>2</td>\n",
       "      <td>0</td>\n",
       "      <td>2007</td>\n",
       "      <td>149</td>\n",
       "      <td>0</td>\n",
       "      <td>0</td>\n",
       "      <td>0</td>\n",
       "      <td>1</td>\n",
       "      <td>0</td>\n",
       "      <td>0</td>\n",
       "      <td>0</td>\n",
       "    </tr>\n",
       "    <tr>\n",
       "      <th>4</th>\n",
       "      <td>T046</td>\n",
       "      <td>1</td>\n",
       "      <td>0</td>\n",
       "      <td>2007</td>\n",
       "      <td>149</td>\n",
       "      <td>0</td>\n",
       "      <td>0</td>\n",
       "      <td>0</td>\n",
       "      <td>1</td>\n",
       "      <td>0</td>\n",
       "      <td>0</td>\n",
       "      <td>0</td>\n",
       "    </tr>\n",
       "    <tr>\n",
       "      <th>5</th>\n",
       "      <td>T048</td>\n",
       "      <td>3</td>\n",
       "      <td>0</td>\n",
       "      <td>2007</td>\n",
       "      <td>149</td>\n",
       "      <td>0</td>\n",
       "      <td>0</td>\n",
       "      <td>1</td>\n",
       "      <td>1</td>\n",
       "      <td>0</td>\n",
       "      <td>0</td>\n",
       "      <td>0</td>\n",
       "    </tr>\n",
       "  </tbody>\n",
       "</table>\n",
       "</div>"
      ],
      "text/plain": [
       "   Trap  NumMosquitos  WnvPresent  Year  DayofYear  CULEX ERRATICUS  \\\n",
       "0  T002             2           0  2007        149                0   \n",
       "1  T007             1           0  2007        149                0   \n",
       "2  T015             5           0  2007        149                0   \n",
       "3  T045             2           0  2007        149                0   \n",
       "4  T046             1           0  2007        149                0   \n",
       "5  T048             3           0  2007        149                0   \n",
       "\n",
       "   CULEX PIPIENS  CULEX PIPIENS/RESTUANS  CULEX RESTUANS  CULEX SALINARIUS  \\\n",
       "0              0                       1               1                 0   \n",
       "1              0                       0               1                 0   \n",
       "2              0                       1               1                 0   \n",
       "3              0                       0               1                 0   \n",
       "4              0                       0               1                 0   \n",
       "5              0                       1               1                 0   \n",
       "\n",
       "   CULEX TARSALIS  CULEX TERRITANS  \n",
       "0               0                0  \n",
       "1               0                0  \n",
       "2               0                0  \n",
       "3               0                0  \n",
       "4               0                0  \n",
       "5               0                0  "
      ]
     },
     "execution_count": 35,
     "metadata": {},
     "output_type": "execute_result"
    }
   ],
   "source": [
    "df_train4.head(6)"
   ]
  },
  {
   "cell_type": "code",
   "execution_count": null,
   "metadata": {
    "collapsed": true
   },
   "outputs": [],
   "source": []
  },
  {
   "cell_type": "markdown",
   "metadata": {
    "collapsed": true
   },
   "source": [
    "#### Read in cleaned weather data and engineer additional features"
   ]
  },
  {
   "cell_type": "code",
   "execution_count": 36,
   "metadata": {
    "collapsed": true
   },
   "outputs": [],
   "source": [
    "# Read in weather data \n",
    "weather_stn = pd.read_csv('cleaned_weather.csv')"
   ]
  },
  {
   "cell_type": "code",
   "execution_count": 37,
   "metadata": {
    "collapsed": true
   },
   "outputs": [],
   "source": [
    "# Convert date to to date_time format\n",
    "weather_stn['date']= pd.to_datetime(weather_stn.date)"
   ]
  },
  {
   "cell_type": "code",
   "execution_count": 38,
   "metadata": {},
   "outputs": [
    {
     "data": {
      "text/plain": [
       "date             datetime64[ns]\n",
       "tmax_x                    int64\n",
       "tmin_x                    int64\n",
       "tavg_x                  float64\n",
       "depart_x                float64\n",
       "dewpoint_x                int64\n",
       "wetbulb_x               float64\n",
       "heat_x                  float64\n",
       "cool_x                  float64\n",
       "preciptotal_x           float64\n",
       "stnpressure_x           float64\n",
       "sealevel_x              float64\n",
       "resultspeed_x           float64\n",
       "resultdir_x               int64\n",
       "avgspeed_x              float64\n",
       "tmax_y                    int64\n",
       "tmin_y                    int64\n",
       "tavg_y                  float64\n",
       "depart_y                float64\n",
       "dewpoint_y                int64\n",
       "wetbulb_y               float64\n",
       "heat_y                  float64\n",
       "cool_y                  float64\n",
       "preciptotal_y           float64\n",
       "stnpressure_y           float64\n",
       "sealevel_y              float64\n",
       "resultspeed_y           float64\n",
       "resultdir_y               int64\n",
       "avgspeed_y              float64\n",
       "dtype: object"
      ]
     },
     "execution_count": 38,
     "metadata": {},
     "output_type": "execute_result"
    }
   ],
   "source": [
    "# Check fields\n",
    "weather_stn.dtypes"
   ]
  },
  {
   "cell_type": "code",
   "execution_count": 39,
   "metadata": {
    "collapsed": true
   },
   "outputs": [],
   "source": [
    "# Sort by date\n",
    "weather_stn2 = weather_stn.sort_values(['date'], ascending=[True])"
   ]
  },
  {
   "cell_type": "code",
   "execution_count": 40,
   "metadata": {
    "collapsed": true,
    "scrolled": true
   },
   "outputs": [],
   "source": [
    "# Add a year column to be sure not crossing year boundaries since data only 6 months / yr\n",
    "weather_stn2['year']= weather_stn2.date.dt.year"
   ]
  },
  {
   "cell_type": "code",
   "execution_count": 41,
   "metadata": {
    "collapsed": true
   },
   "outputs": [],
   "source": [
    "# Create new features, total cooling days in last 7 days, last 30 minus 7 days,and last 90 minus 30 days\n",
    "\n",
    "# fcn to pull the data in a particular column of a dataframe from days_ago prior to the index\n",
    "def pull_val(df,col_name,index,days_ago):\n",
    "    if ((df['year'].iloc[i])== (df['year'].iloc[i-days_ago])):   # check that years match\n",
    "        try:                                        # need 'try' for start of the data frame\n",
    "            val = df[col_name].iloc[i-days_ago]   # find value from number of days_ago\n",
    "        except:\n",
    "            val = 0         # if prior to start of dataframe, assume 0\n",
    "    else:                     # if years don't match, assume 0\n",
    "        val = 0\n",
    "    return val"
   ]
  },
  {
   "cell_type": "code",
   "execution_count": 42,
   "metadata": {
    "collapsed": true
   },
   "outputs": [],
   "source": [
    "# Add feature for last 7 days cooling\n",
    "\n",
    "# Initialize the column for total cooling days in last 7 days\n",
    "weather_stn2['coollast7'] = weather_stn2['cool_x']\n",
    "col_index = weather_stn2.columns.get_loc('coollast7')    # get column index corresponding to column name\n",
    "\n",
    "# loop through all the rows of the condensed weather data frame\n",
    "\n",
    "for i in range(len(weather_stn2)):\n",
    "    coollast7 = 0      #initialize value to current day\n",
    "    for j in range(0,7):       # add the last 7 days' values\n",
    "        coollast7 += pull_val(weather_stn2,'cool_x',i,j)\n",
    "         # add the value to the dataframe\n",
    "        weather_stn2.set_value(i,col_index,coollast7,takeable=True )   #takeable = True uses indices\n"
   ]
  },
  {
   "cell_type": "code",
   "execution_count": 43,
   "metadata": {
    "collapsed": true
   },
   "outputs": [],
   "source": [
    "# Add feature for last 30 days cooling.   Later will subtract last 7 days from it.\n",
    "\n",
    "# Initialize the column for total cooling days in last 30 days\n",
    "weather_stn2['coollast30'] = weather_stn2['cool_x']\n",
    "col_index = weather_stn2.columns.get_loc('coollast30')    # get column index corresponding to column name\n",
    "\n",
    "# loop through all the rows of the condensed weather data frame\n",
    "\n",
    "for i in range(len(weather_stn2)):\n",
    "    coollast30 = 0      #initialize value to current day\n",
    "    for j in range(0,30):       # add the last 30 days' values\n",
    "        coollast30 += pull_val(weather_stn2,'cool_x',i,j)\n",
    "    # add the value to the dataframe\n",
    "    weather_stn2.set_value(i,col_index,coollast30,takeable=True )   #takeable = True uses indices\n"
   ]
  },
  {
   "cell_type": "code",
   "execution_count": 44,
   "metadata": {
    "collapsed": true
   },
   "outputs": [],
   "source": [
    "# Add feature for last 90 days cooling.   Later will subtract last 30 days from it.\n",
    "\n",
    "# Initialize the column for total cooling days in last 90 days\n",
    "weather_stn2['coollast90'] = weather_stn2['cool_x']\n",
    "col_index = weather_stn2.columns.get_loc('coollast90')    # get column index corresponding to column name\n",
    "\n",
    "# loop through all the rows of the condensed weather data frame\n",
    "\n",
    "for i in range(len(weather_stn2)):\n",
    "    coollast90 = 0      #initialize value to current day\n",
    "    for j in range(0,90):       # add the last 90 days' values\n",
    "        coollast90 += pull_val(weather_stn2,'cool_x',i,j)\n",
    "    # add the value to the dataframe\n",
    "    weather_stn2.set_value(i,col_index,coollast90,takeable=True )   #takeable = True uses indices\n"
   ]
  },
  {
   "cell_type": "code",
   "execution_count": 45,
   "metadata": {
    "collapsed": true
   },
   "outputs": [],
   "source": [
    "# Add feature for precipitation for last 7, 30, 90 days"
   ]
  },
  {
   "cell_type": "code",
   "execution_count": 46,
   "metadata": {
    "collapsed": true
   },
   "outputs": [],
   "source": [
    "# Add feature for last 7 days precipitation.\n",
    "\n",
    "# Initialize the column for total precipitation in last 7 days\n",
    "weather_stn2['preciplast7'] = weather_stn2['preciptotal_x']\n",
    "col_index = weather_stn2.columns.get_loc('preciplast7')    # get column index corresponding to column name\n",
    "\n",
    "# loop through all the rows of the condensed weather data frame\n",
    "\n",
    "for i in range(len(weather_stn2)):\n",
    "    preciplast7 = 0      #initialize value to current day\n",
    "    for j in range(0,7):       # add the last 7 days' values\n",
    "        preciplast7 += pull_val(weather_stn2,'preciptotal_x',i,j)\n",
    "         # add the value to the dataframe\n",
    "        weather_stn2.set_value(i,col_index,preciplast7,takeable=True )   #takeable = True uses indices\n"
   ]
  },
  {
   "cell_type": "code",
   "execution_count": 47,
   "metadata": {
    "collapsed": true
   },
   "outputs": [],
   "source": [
    "# Add feature for last 30 days precipitation.   Later will subtract last 7 days from it.\n",
    "\n",
    "# Initialize the column for total precipitation in last 30 days\n",
    "weather_stn2['preciplast30'] = weather_stn2['preciptotal_x']\n",
    "col_index = weather_stn2.columns.get_loc('preciplast30')    # get column index corresponding to column name\n",
    "\n",
    "# loop through all the rows of the condensed weather data frame\n",
    "\n",
    "for i in range(len(weather_stn2)):\n",
    "    preciplast30 = 0      #initialize value to current day\n",
    "    for j in range(0,30):       # add the last 30 days' values\n",
    "        preciplast30 += pull_val(weather_stn2,'preciptotal_x',i,j)\n",
    "         # add the value to the dataframe\n",
    "        weather_stn2.set_value(i,col_index,preciplast30,takeable=True )   #takeable = True uses indices\n"
   ]
  },
  {
   "cell_type": "code",
   "execution_count": 48,
   "metadata": {
    "collapsed": true
   },
   "outputs": [],
   "source": [
    "# Add feature for last 90 days precipitation.   Later will subtract last 30 days from it.\n",
    "\n",
    "# Initialize the column for total precipitation in last 90 days\n",
    "weather_stn2['preciplast90'] = weather_stn2['preciptotal_x']\n",
    "col_index = weather_stn2.columns.get_loc('preciplast90')    # get column index corresponding to column name\n",
    "\n",
    "# loop through all the rows of the condensed weather data frame\n",
    "\n",
    "for i in range(len(weather_stn2)):\n",
    "    preciplast90 = 0      #initialize value to current day\n",
    "    for j in range(0,90):       # add the last 90 days' values\n",
    "        preciplast90 += pull_val(weather_stn2,'preciptotal_x',i,j)\n",
    "         # add the value to the dataframe\n",
    "        weather_stn2.set_value(i,col_index,preciplast90,takeable=True )   #takeable = True uses indices\n"
   ]
  },
  {
   "cell_type": "code",
   "execution_count": 49,
   "metadata": {
    "collapsed": true
   },
   "outputs": [],
   "source": [
    "# Add feature for wet bulb for last 7, 30, 90 days"
   ]
  },
  {
   "cell_type": "code",
   "execution_count": 50,
   "metadata": {
    "collapsed": true
   },
   "outputs": [],
   "source": [
    "# Add feature for last 7 days wetbulb\n",
    "\n",
    "# Initialize the column for total wet bulb in last 7 days\n",
    "weather_stn2['wblast7'] = (weather_stn2['wetbulb_x']+weather_stn2['wetbulb_y'])/2 # take average of 2 stns\n",
    "col_index = weather_stn2.columns.get_loc('wblast7')    # get column index corresponding to column name\n",
    "\n",
    "# loop through all the rows of the condensed weather data frame\n",
    "\n",
    "for i in range(len(weather_stn2)):\n",
    "    wblast7 = 0      #initialize value to current day\n",
    "    for j in range(0,7):       # add the last 7 days' values\n",
    "        wblast7 += (pull_val(weather_stn2,'wetbulb_x',i,j)+pull_val(weather_stn2,'wetbulb_y',i,j))/2\n",
    "         # add the value to the dataframe\n",
    "        weather_stn2.set_value(i,col_index,wblast7,takeable=True )   #takeable = True uses indices\n"
   ]
  },
  {
   "cell_type": "code",
   "execution_count": 51,
   "metadata": {
    "collapsed": true
   },
   "outputs": [],
   "source": [
    "# Add feature for last 30 days wet bulb\n",
    "\n",
    "# Initialize the column for total wet bulb in last 30 days\n",
    "weather_stn2['wblast30'] = (weather_stn2['wetbulb_x']+weather_stn2['wetbulb_y'])/2 # take average of 2 stns\n",
    "col_index = weather_stn2.columns.get_loc('wblast30')    # get column index corresponding to column name\n",
    "\n",
    "# loop through all the rows of the condensed weather data frame\n",
    "\n",
    "for i in range(len(weather_stn2)):\n",
    "    wblast30 = 0      #initialize value to current day\n",
    "    for j in range(0,30):       # add the last 7 days' values\n",
    "        wblast30 += (pull_val(weather_stn2,'wetbulb_x',i,j)+pull_val(weather_stn2,'wetbulb_y',i,j))/2\n",
    "         # add the value to the dataframe\n",
    "        weather_stn2.set_value(i,col_index,wblast30,takeable=True )   #takeable = True uses indices\n"
   ]
  },
  {
   "cell_type": "code",
   "execution_count": 52,
   "metadata": {
    "collapsed": true
   },
   "outputs": [],
   "source": [
    "# Add feature for last 90 days wetbulb\n",
    "\n",
    "# Initialize the column for total wet bulb in last 90 days\n",
    "weather_stn2['wblast90'] = (weather_stn2['wetbulb_x']+weather_stn2['wetbulb_y'])/2 # take average of 2 stns\n",
    "col_index = weather_stn2.columns.get_loc('wblast90')    # get column index corresponding to column name\n",
    "\n",
    "# loop through all the rows of the condensed weather data frame\n",
    "\n",
    "for i in range(len(weather_stn2)):\n",
    "    wblast90 = 0      #initialize value to current day\n",
    "    for j in range(0,90):       # add the last 7 days' values\n",
    "        wblast90 += (pull_val(weather_stn2,'wetbulb_x',i,j)+pull_val(weather_stn2,'wetbulb_y',i,j))/2\n",
    "         # add the value to the dataframe\n",
    "        weather_stn2.set_value(i,col_index,wblast90,takeable=True )   #takeable = True uses indices\n"
   ]
  },
  {
   "cell_type": "code",
   "execution_count": 53,
   "metadata": {
    "collapsed": true
   },
   "outputs": [],
   "source": [
    "# Net out the last 7 days from last 30 and last 30 from last 90 for cooling days, precip, and wb\n",
    "\n",
    "weather_stn2['preciplast90'] = weather_stn2['preciplast90'] - weather_stn2['preciplast30']\n",
    "weather_stn2['preciplast30'] = weather_stn2['preciplast30'] - weather_stn2['preciplast7']\n",
    "\n",
    "weather_stn2['coollast90'] = weather_stn2['coollast90'] - weather_stn2['coollast30']\n",
    "weather_stn2['coollast30'] = weather_stn2['coollast30'] - weather_stn2['coollast7']\n",
    "\n",
    "weather_stn2['wblast90'] = weather_stn2['wblast90'] - weather_stn2['wblast30']\n",
    "weather_stn2['wblast30'] = weather_stn2['wblast30'] - weather_stn2['wblast7']"
   ]
  },
  {
   "cell_type": "code",
   "execution_count": 54,
   "metadata": {
    "collapsed": true
   },
   "outputs": [],
   "source": [
    "#write file to csv\n",
    "#weather_stn2.to_csv('weather_stn2.csv',index=False)"
   ]
  },
  {
   "cell_type": "markdown",
   "metadata": {},
   "source": [
    "#### Merge weather data and training data"
   ]
  },
  {
   "cell_type": "code",
   "execution_count": 55,
   "metadata": {
    "collapsed": true
   },
   "outputs": [],
   "source": [
    "# Merge updated weather file with train file\n",
    "train_weather2 = pd.merge(df_train3, weather_stn2, left_on='Date', right_on='date',how='left')"
   ]
  },
  {
   "cell_type": "code",
   "execution_count": 56,
   "metadata": {},
   "outputs": [
    {
     "data": {
      "text/plain": [
       "Date             datetime64[ns]\n",
       "Species                   int64\n",
       "Trap                      int64\n",
       "Latitude                float64\n",
       "Longitude               float64\n",
       "NumMosquitos              int64\n",
       "WnvPresent                int64\n",
       "Year                      int64\n",
       "DayofYear                 int64\n",
       "date             datetime64[ns]\n",
       "tmax_x                    int64\n",
       "tmin_x                    int64\n",
       "tavg_x                  float64\n",
       "depart_x                float64\n",
       "dewpoint_x                int64\n",
       "wetbulb_x               float64\n",
       "heat_x                  float64\n",
       "cool_x                  float64\n",
       "preciptotal_x           float64\n",
       "stnpressure_x           float64\n",
       "sealevel_x              float64\n",
       "resultspeed_x           float64\n",
       "resultdir_x               int64\n",
       "avgspeed_x              float64\n",
       "tmax_y                    int64\n",
       "tmin_y                    int64\n",
       "tavg_y                  float64\n",
       "depart_y                float64\n",
       "dewpoint_y                int64\n",
       "wetbulb_y               float64\n",
       "heat_y                  float64\n",
       "cool_y                  float64\n",
       "preciptotal_y           float64\n",
       "stnpressure_y           float64\n",
       "sealevel_y              float64\n",
       "resultspeed_y           float64\n",
       "resultdir_y               int64\n",
       "avgspeed_y              float64\n",
       "year                      int64\n",
       "coollast7               float64\n",
       "coollast30              float64\n",
       "coollast90              float64\n",
       "preciplast7             float64\n",
       "preciplast30            float64\n",
       "preciplast90            float64\n",
       "wblast7                 float64\n",
       "wblast30                float64\n",
       "wblast90                float64\n",
       "dtype: object"
      ]
     },
     "execution_count": 56,
     "metadata": {},
     "output_type": "execute_result"
    }
   ],
   "source": [
    "train_weather2.dtypes"
   ]
  },
  {
   "cell_type": "code",
   "execution_count": 57,
   "metadata": {},
   "outputs": [
    {
     "data": {
      "text/plain": [
       "Index([u'Date', u'Species', u'Trap', u'Latitude', u'Longitude',\n",
       "       u'NumMosquitos', u'WnvPresent', u'Year', u'DayofYear', u'date',\n",
       "       u'tmax_x', u'tmin_x', u'tavg_x', u'depart_x', u'dewpoint_x',\n",
       "       u'wetbulb_x', u'heat_x', u'cool_x', u'preciptotal_x', u'stnpressure_x',\n",
       "       u'sealevel_x', u'resultspeed_x', u'resultdir_x', u'avgspeed_x',\n",
       "       u'tmax_y', u'tmin_y', u'tavg_y', u'depart_y', u'dewpoint_y',\n",
       "       u'wetbulb_y', u'heat_y', u'cool_y', u'preciptotal_y', u'stnpressure_y',\n",
       "       u'sealevel_y', u'resultspeed_y', u'resultdir_y', u'avgspeed_y', u'year',\n",
       "       u'coollast7', u'coollast30', u'coollast90', u'preciplast7',\n",
       "       u'preciplast30', u'preciplast90', u'wblast7', u'wblast30', u'wblast90'],\n",
       "      dtype='object')"
      ]
     },
     "execution_count": 57,
     "metadata": {},
     "output_type": "execute_result"
    }
   ],
   "source": [
    "train_weather2.columns"
   ]
  },
  {
   "cell_type": "code",
   "execution_count": 58,
   "metadata": {
    "scrolled": true
   },
   "outputs": [
    {
     "data": {
      "text/plain": [
       "Date             datetime64[ns]\n",
       "Species                   int64\n",
       "Trap                      int64\n",
       "Latitude                float64\n",
       "Longitude               float64\n",
       "NumMosquitos              int64\n",
       "WnvPresent                int64\n",
       "Year                      int64\n",
       "DayofYear                 int64\n",
       "tmax_x                    int64\n",
       "tmin_x                    int64\n",
       "tavg_x                  float64\n",
       "depart_x                float64\n",
       "dewpoint_x                int64\n",
       "wetbulb_x               float64\n",
       "heat_x                  float64\n",
       "cool_x                  float64\n",
       "preciptotal_x           float64\n",
       "stnpressure_x           float64\n",
       "sealevel_x              float64\n",
       "resultspeed_x           float64\n",
       "resultdir_x               int64\n",
       "avgspeed_x              float64\n",
       "tmax_y                    int64\n",
       "tmin_y                    int64\n",
       "tavg_y                  float64\n",
       "depart_y                float64\n",
       "dewpoint_y                int64\n",
       "wetbulb_y               float64\n",
       "heat_y                  float64\n",
       "cool_y                  float64\n",
       "preciptotal_y           float64\n",
       "stnpressure_y           float64\n",
       "sealevel_y              float64\n",
       "resultspeed_y           float64\n",
       "resultdir_y               int64\n",
       "avgspeed_y              float64\n",
       "year                      int64\n",
       "coollast7               float64\n",
       "coollast30              float64\n",
       "coollast90              float64\n",
       "preciplast7             float64\n",
       "preciplast30            float64\n",
       "preciplast90            float64\n",
       "wblast7                 float64\n",
       "wblast30                float64\n",
       "wblast90                float64\n",
       "dtype: object"
      ]
     },
     "execution_count": 58,
     "metadata": {},
     "output_type": "execute_result"
    }
   ],
   "source": [
    "# Drop 2nd date column\n",
    "train_weather2.drop('date', axis=1,inplace=True)\n",
    "train_weather2.dtypes"
   ]
  },
  {
   "cell_type": "code",
   "execution_count": 59,
   "metadata": {
    "collapsed": true
   },
   "outputs": [],
   "source": [
    "# Write training file with weather data to csv\n",
    "train_weather2.to_csv('train_weather2e.csv',index=False)"
   ]
  },
  {
   "cell_type": "markdown",
   "metadata": {
    "collapsed": true
   },
   "source": [
    "##### Format test file similar to train file"
   ]
  },
  {
   "cell_type": "code",
   "execution_count": 60,
   "metadata": {},
   "outputs": [
    {
     "data": {
      "text/plain": [
       "Index([u'Id', u'Date', u'Address', u'Species', u'Block', u'Street', u'Trap',\n",
       "       u'AddressNumberAndStreet', u'Latitude', u'Longitude',\n",
       "       u'AddressAccuracy'],\n",
       "      dtype='object')"
      ]
     },
     "execution_count": 60,
     "metadata": {},
     "output_type": "execute_result"
    }
   ],
   "source": [
    "df_test.columns"
   ]
  },
  {
   "cell_type": "code",
   "execution_count": 61,
   "metadata": {
    "scrolled": true
   },
   "outputs": [
    {
     "data": {
      "text/plain": [
       "Id                          int64\n",
       "Date                       object\n",
       "Address                    object\n",
       "Species                     int64\n",
       "Block                       int64\n",
       "Street                     object\n",
       "Trap                        int64\n",
       "AddressNumberAndStreet     object\n",
       "Latitude                  float64\n",
       "Longitude                 float64\n",
       "AddressAccuracy             int64\n",
       "dtype: object"
      ]
     },
     "execution_count": 61,
     "metadata": {},
     "output_type": "execute_result"
    }
   ],
   "source": [
    "df_test.dtypes"
   ]
  },
  {
   "cell_type": "code",
   "execution_count": 64,
   "metadata": {},
   "outputs": [],
   "source": [
    "## Change date column type\n",
    "df_test['Date']= pd.to_datetime(df_test.Date)"
   ]
  },
  {
   "cell_type": "code",
   "execution_count": 65,
   "metadata": {
    "collapsed": true
   },
   "outputs": [],
   "source": [
    "# Drop columns not using in initial regressions\n",
    "drop_cols = ['Address','Block','Street','AddressNumberAndStreet','AddressAccuracy']\n",
    "df_test3 = df_test.drop(drop_cols,axis=1)"
   ]
  },
  {
   "cell_type": "code",
   "execution_count": 66,
   "metadata": {},
   "outputs": [
    {
     "data": {
      "text/plain": [
       "Index([u'Id', u'Date', u'Species', u'Trap', u'Latitude', u'Longitude'], dtype='object')"
      ]
     },
     "execution_count": 66,
     "metadata": {},
     "output_type": "execute_result"
    }
   ],
   "source": [
    "df_test3.columns"
   ]
  },
  {
   "cell_type": "code",
   "execution_count": 67,
   "metadata": {
    "collapsed": true
   },
   "outputs": [],
   "source": [
    "# Merge test data with weather data, including added features"
   ]
  },
  {
   "cell_type": "code",
   "execution_count": 68,
   "metadata": {
    "collapsed": true
   },
   "outputs": [],
   "source": [
    "test_weather3 = pd.merge(df_test3, weather_stn2, left_on='Date', right_on='date',how='left')"
   ]
  },
  {
   "cell_type": "code",
   "execution_count": 69,
   "metadata": {
    "scrolled": false
   },
   "outputs": [
    {
     "data": {
      "text/plain": [
       "Index([u'Id', u'Date', u'Species', u'Trap', u'Latitude', u'Longitude', u'date',\n",
       "       u'tmax_x', u'tmin_x', u'tavg_x', u'depart_x', u'dewpoint_x',\n",
       "       u'wetbulb_x', u'heat_x', u'cool_x', u'preciptotal_x', u'stnpressure_x',\n",
       "       u'sealevel_x', u'resultspeed_x', u'resultdir_x', u'avgspeed_x',\n",
       "       u'tmax_y', u'tmin_y', u'tavg_y', u'depart_y', u'dewpoint_y',\n",
       "       u'wetbulb_y', u'heat_y', u'cool_y', u'preciptotal_y', u'stnpressure_y',\n",
       "       u'sealevel_y', u'resultspeed_y', u'resultdir_y', u'avgspeed_y', u'year',\n",
       "       u'coollast7', u'coollast30', u'coollast90', u'preciplast7',\n",
       "       u'preciplast30', u'preciplast90', u'wblast7', u'wblast30', u'wblast90'],\n",
       "      dtype='object')"
      ]
     },
     "execution_count": 69,
     "metadata": {},
     "output_type": "execute_result"
    }
   ],
   "source": [
    "test_weather3.columns"
   ]
  },
  {
   "cell_type": "code",
   "execution_count": 70,
   "metadata": {
    "collapsed": true
   },
   "outputs": [],
   "source": [
    "# add day of year\n",
    "test_weather3['DayofYear']= test_weather3.Date.dt.dayofyear\n",
    "\n",
    "# drop extra date column\n",
    "test_weather3 = test_weather3.drop(['date'],axis=1)\n",
    "\n",
    "# sort test file by 'Id' for Kaggle\n",
    "test_weather3.sort_values(['Id'], ascending=[True],inplace=True)\n"
   ]
  },
  {
   "cell_type": "code",
   "execution_count": 71,
   "metadata": {
    "scrolled": false
   },
   "outputs": [
    {
     "data": {
      "text/plain": [
       "Id               0\n",
       "Date             0\n",
       "Species          0\n",
       "Trap             0\n",
       "Latitude         0\n",
       "Longitude        0\n",
       "tmax_x           0\n",
       "tmin_x           0\n",
       "tavg_x           0\n",
       "depart_x         0\n",
       "dewpoint_x       0\n",
       "wetbulb_x        0\n",
       "heat_x           0\n",
       "cool_x           0\n",
       "preciptotal_x    0\n",
       "stnpressure_x    0\n",
       "sealevel_x       0\n",
       "resultspeed_x    0\n",
       "resultdir_x      0\n",
       "avgspeed_x       0\n",
       "tmax_y           0\n",
       "tmin_y           0\n",
       "tavg_y           0\n",
       "depart_y         0\n",
       "dewpoint_y       0\n",
       "wetbulb_y        0\n",
       "heat_y           0\n",
       "cool_y           0\n",
       "preciptotal_y    0\n",
       "stnpressure_y    0\n",
       "sealevel_y       0\n",
       "resultspeed_y    0\n",
       "resultdir_y      0\n",
       "avgspeed_y       0\n",
       "year             0\n",
       "coollast7        0\n",
       "coollast30       0\n",
       "coollast90       0\n",
       "preciplast7      0\n",
       "preciplast30     0\n",
       "preciplast90     0\n",
       "wblast7          0\n",
       "wblast30         0\n",
       "wblast90         0\n",
       "DayofYear        0\n",
       "dtype: int64"
      ]
     },
     "execution_count": 71,
     "metadata": {},
     "output_type": "execute_result"
    }
   ],
   "source": [
    "test_weather3.isnull().sum()"
   ]
  },
  {
   "cell_type": "code",
   "execution_count": 72,
   "metadata": {
    "collapsed": true
   },
   "outputs": [],
   "source": [
    "# Write test file combined with weather to csv\n",
    "test_weather3.to_csv('test_weather3e.csv',header=True,index=False)"
   ]
  },
  {
   "cell_type": "markdown",
   "metadata": {},
   "source": [
    "#### Data was now fed to XGBoost and then to Kaggle"
   ]
  }
 ],
 "metadata": {
  "kernelspec": {
   "display_name": "Python 2",
   "language": "python",
   "name": "python2"
  },
  "language_info": {
   "codemirror_mode": {
    "name": "ipython",
    "version": 2
   },
   "file_extension": ".py",
   "mimetype": "text/x-python",
   "name": "python",
   "nbconvert_exporter": "python",
   "pygments_lexer": "ipython2",
   "version": "2.7.13"
  }
 },
 "nbformat": 4,
 "nbformat_minor": 2
}
